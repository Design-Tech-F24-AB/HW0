{
 "cells": [
  {
   "cell_type": "markdown",
   "metadata": {},
   "source": [
    "\n",
    "## DESIGN 6197/4197 | AI & Design: Generative AI from MLPs to APIs\n",
    "\n",
    "## Homework 0 | Intro excerise\n",
    "\n",
    "Welcome to the first homework assignment for AI & Design: Generative AI from MLPs to APIs. This assignment is designed to help you get comfortable with the tools and technologies we'll be using in the course. Many of the assignments will be formatted as interactive Jupyter notebooks, like this one, that can be run locally on your computer. \n",
    "\n",
    "Before proceeding with the rest of the assignemt, make sure you have already reviewed the readme.md file that is also located in this directory. This will walk you throuh the steps of installing mamba and creating a new environment for this course.\n",
    "\n",
    "In addition to this assigment there is also a reading that you should complete. It is also located in this directory. The final cell in this nodebook will ask you to respond briefly to the reading. "
   ]
  },
  {
   "cell_type": "markdown",
   "metadata": {},
   "source": [
    "#### 0.0 | To start we will import a few libraries needed for this assignment. "
   ]
  },
  {
   "cell_type": "code",
   "execution_count": 1,
   "metadata": {},
   "outputs": [],
   "source": [
    "import numpy as np\n",
    "import matplotlib.pyplot as plt"
   ]
  },
  {
   "cell_type": "markdown",
   "metadata": {},
   "source": [
    "Let's check if this worked as we expected. You should be able to press 'shift + enter' to run the cell. "
   ]
  },
  {
   "cell_type": "code",
   "execution_count": 5,
   "metadata": {},
   "outputs": [
    {
     "name": "stdout",
     "output_type": "stream",
     "text": [
      "Numpy version is:  2.0.1\n"
     ]
    }
   ],
   "source": [
    "print(\"Numpy version is: \", np.__version__)"
   ]
  },
  {
   "cell_type": "markdown",
   "metadata": {},
   "source": [
    "If you do not see any errors, you are good to go. If not, there is something wrong with your environment setup. Go back and check the readme.md files to make sure you didn't miss any steps. "
   ]
  },
  {
   "cell_type": "markdown",
   "metadata": {},
   "source": [
    "#### 1.0 | Now we will define a simple function that can be reused in this assignment.\n",
    "\n",
    "First you you need to define the Drop-Wave function which is described [here](https://www.sfu.ca/~ssurjano/drop.html). Then you will evaluate the function with a 2d grid of points using the domain given in the link. \n",
    "\n",
    "To define x1 and x2 you can use np.arange with a step size of 0.1 or np.linspace with a resolution of 40 (or whatever resolution you feel is best!). The numpy documtation for these functions can be found [here](https://numpy.org/doc/stable/reference/generated/numpy.arange.html) for np.arange and [here](https://numpy.org/doc/stable/reference/generated/numpy.linspace.html) for np.linspace.\n",
    "\n",
    "The function signature for the drop-wave function is given below:"
   ]
  },
  {
   "cell_type": "code",
   "execution_count": 6,
   "metadata": {},
   "outputs": [],
   "source": [
    "def drop_wave(x1: np.ndarray, x2: np.ndarray) -> np.ndarray:\n",
    "    #Your code goes here\n",
    "    return NotImplementedError"
   ]
  },
  {
   "cell_type": "code",
   "execution_count": 7,
   "metadata": {},
   "outputs": [
    {
     "data": {
      "text/plain": [
       "NotImplementedError"
      ]
     },
     "execution_count": 7,
     "metadata": {},
     "output_type": "execute_result"
    }
   ],
   "source": [
    "drop_wave(0.0, 0.0)"
   ]
  }
 ],
 "metadata": {
  "kernelspec": {
   "display_name": "Python 3",
   "language": "python",
   "name": "python3"
  },
  "language_info": {
   "codemirror_mode": {
    "name": "ipython",
    "version": 3
   },
   "file_extension": ".py",
   "mimetype": "text/x-python",
   "name": "python",
   "nbconvert_exporter": "python",
   "pygments_lexer": "ipython3",
   "version": "3.9.10"
  }
 },
 "nbformat": 4,
 "nbformat_minor": 2
}
