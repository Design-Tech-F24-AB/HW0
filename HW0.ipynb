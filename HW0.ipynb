{
 "cells": [
  {
   "cell_type": "markdown",
   "metadata": {},
   "source": [
    "\n",
    "## DESIGN 6197/4197 | AI & Design: Generative AI from MLPs to APIs\n",
    "\n",
    "## Homework 0 | Intro excerise\n",
    "\n",
    "Welcome to the first homework assignment for AI & Design: Generative AI from MLPs to APIs. This assignment is designed to help you get comfortable with the tools and technologies we'll be using in the course. Many of the assignments will be formatted as interactive Jupyter notebooks, like this one, that can be run locally on your computer. \n",
    "\n",
    "Before proceeding with the rest of the assignemt, make sure you have already reviewed the readme.md file that is also located in this directory. This will walk you throuh the steps of installing mamba and creating a new environment for this course.\n",
    "\n",
    "In addition to this assigment there is also a reading that you should complete. It is also located in this directory. The final cell in this nodebook will ask you to respond briefly to the reading.\n",
    "\n",
    "This homework is adapted from 4.453x Creative Machine Learning for Design at MIT taught by Renaud Danhaive, Ous Abou Ras, Natasha Hirt, and Caitlin Mueller"
   ]
  },
  {
   "cell_type": "markdown",
   "metadata": {},
   "source": [
    "#### 0.0 | To start we will import a few libraries needed for this assignment. "
   ]
  },
  {
   "cell_type": "code",
   "execution_count": 1,
   "metadata": {},
   "outputs": [],
   "source": [
    "import numpy as np\n",
    "import matplotlib.pyplot as plt"
   ]
  },
  {
   "cell_type": "markdown",
   "metadata": {},
   "source": [
    "Let's check if this worked as we expected. You should be able to press 'shift + enter' to run the cell. "
   ]
  },
  {
   "cell_type": "code",
   "execution_count": 2,
   "metadata": {},
   "outputs": [
    {
     "name": "stdout",
     "output_type": "stream",
     "text": [
      "Numpy version is:  2.0.1\n"
     ]
    }
   ],
   "source": [
    "print(\"Numpy version is: \", np.__version__)"
   ]
  },
  {
   "cell_type": "markdown",
   "metadata": {},
   "source": [
    "If you do not see any errors, you are good to go. If not, there is something wrong with your environment setup. Go back and check the readme.md files to make sure you didn't miss any steps. "
   ]
  },
  {
   "cell_type": "markdown",
   "metadata": {},
   "source": [
    "#### 1.0 | Now we will define a simple function that can be reused in this assignment.\n",
    "\n",
    "First you you need to define the Drop-Wave function which is described [here](https://www.sfu.ca/~ssurjano/drop.html). Then you will evaluate the function with a 2d grid of points using the domain given in the link. \n",
    "\n",
    "The function signature for the drop-wave function is given below:"
   ]
  },
  {
   "cell_type": "code",
   "execution_count": 6,
   "metadata": {},
   "outputs": [],
   "source": [
    "def drop_wave(x1: np.ndarray, x2: np.ndarray) -> np.ndarray:\n",
    "    #Your code goes here\n",
    "    return NotImplementedError"
   ]
  },
  {
   "cell_type": "markdown",
   "metadata": {},
   "source": [
    "Next you need to create the inputs for the drop_wave function. You can use the numpy.meshgrid function to create a 2d grid of points. The numpy documentation for this function can be found [here](https://numpy.org/doc/stable/reference/generated/numpy.meshgrid.html) or an example explanation [here](https://www.geeksforgeeks.org/numpy-meshgrid-function/).\n",
    "\n",
    "To define the inputs to the meshgrid function you can use np.arange with a step size of 0.1 or np.linspace with a resolution of 40 (or whatever resolution you feel is best!). The numpy documtation for these functions can be found [here](https://numpy.org/doc/stable/reference/generated/numpy.arange.html) for np.arange and [here](https://numpy.org/doc/stable/reference/generated/numpy.linspace.html) for np.linspace."
   ]
  },
  {
   "cell_type": "code",
   "execution_count": null,
   "metadata": {},
   "outputs": [],
   "source": [
    "#Generate a meshgrid using two 1d arrays\n",
    "a = #Your code goes here\n",
    "b = #Your code goes here\n",
    "\n",
    "x1, x2 = #Your code goes here"
   ]
  },
  {
   "cell_type": "markdown",
   "metadata": {},
   "source": [
    "Then you can evaluate the drop_wave function using the meshgrid points you created."
   ]
  },
  {
   "cell_type": "code",
   "execution_count": null,
   "metadata": {},
   "outputs": [],
   "source": [
    "#No need to change any code here\n",
    "z_values = drop_wave(x1, x2)"
   ]
  },
  {
   "cell_type": "markdown",
   "metadata": {},
   "source": [
    "#### 2.0 | Next, plot a 2d heatmap of the drop-wave function using the grid of points you just created.\n",
    "\n",
    "You can use the matplotlib library to create the heatmap. The documentation for the heatmap function can be found [here](https://matplotlib.org/stable/api/_as_gen/matplotlib.pyplot.imshow.html).\n",
    "\n",
    "Note, if you just input a 2d array of values into the plt.imshow function, it will automatically normalize the values for you to create the heatmap. Feel free to play around with the colormap and other parameters to make the plot look nice."
   ]
  },
  {
   "cell_type": "code",
   "execution_count": null,
   "metadata": {},
   "outputs": [],
   "source": [
    "#Plot the drop_wave function using the z_values you just created"
   ]
  },
  {
   "cell_type": "markdown",
   "metadata": {},
   "source": [
    "#### 3.0 | Another way to understand the characteristics of the surface in a non-spatial way is to get a sense for its z-values.\n",
    "\n",
    "We'll use a histogram for this. Plot a histogram of all the z-values of the function/surface. Remember that z_values is currently a 2D array so you will need to flatten it (convert it into a 1D array/vector) to be able to plot the histogram.\n",
    "\n",
    "To plot a histogram, you can use plt.hist and you can flatten a numpy array using some_array.flatten()"
   ]
  },
  {
   "cell_type": "code",
   "execution_count": null,
   "metadata": {},
   "outputs": [],
   "source": [
    "#plot the histogram of the z_values"
   ]
  },
  {
   "cell_type": "markdown",
   "metadata": {},
   "source": [
    "#### 4.0 | Finally, let's use some summary statistics to characterize this geometry. Find the mean and the median of the z-values of the surface.\n",
    "\n",
    "You can use np.mean() and np.median for that. You can search the numpy documentation to figure out how to use them as well."
   ]
  },
  {
   "cell_type": "code",
   "execution_count": null,
   "metadata": {},
   "outputs": [],
   "source": [
    "#Print the median and mean of the z_values"
   ]
  },
  {
   "cell_type": "markdown",
   "metadata": {},
   "source": [
    "5.0 | Lastly, please respond to the reading that was assigned to you. \n",
    "\n",
    "I would just like you to write a few sentences about your thoughts on the proposition put forward by Turning and how it relates to what you understand is the current state-of-the-art in AI. This will not be graded for any specific content, but it will be interesting to look back on at the end of the semester.\n",
    "\n",
    "You can respond in the empty markdown cell below."
   ]
  },
  {
   "cell_type": "markdown",
   "metadata": {},
   "source": []
  },
  {
   "cell_type": "markdown",
   "metadata": {},
   "source": [
    "#### FIN! | That's it for this assignment.\n",
    "\n",
    "To submit this assignment, please save this notebook and then go to the source control tab in VS Code (the hot key is 'ctrl + shift + g'). You should see this file listed as a change. Enter a meaningful commit message and then click the check mark at the top of the source control tab to commit the changes."
   ]
  }
 ],
 "metadata": {
  "kernelspec": {
   "display_name": "Python 3",
   "language": "python",
   "name": "python3"
  },
  "language_info": {
   "codemirror_mode": {
    "name": "ipython",
    "version": 3
   },
   "file_extension": ".py",
   "mimetype": "text/x-python",
   "name": "python",
   "nbconvert_exporter": "python",
   "pygments_lexer": "ipython3",
   "version": "3.9.10"
  }
 },
 "nbformat": 4,
 "nbformat_minor": 2
}
